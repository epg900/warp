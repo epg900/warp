{
  "nbformat": 4,
  "nbformat_minor": 0,
  "metadata": {
    "colab": {
      "provenance": []
    },
    "kernelspec": {
      "name": "python3",
      "display_name": "Python 3"
    },
    "language_info": {
      "name": "python"
    }
  },
  "cells": [
    {
      "cell_type": "code",
      "source": [
        "# @title Run this to get 10 config file\n",
        "import requests, json, base64, csv\n",
        "from IPython.display import HTML, clear_output\n",
        "\n",
        "%cd /content\n",
        "!rm -r warp\n",
        "!git clone https://github.com/epg900/warp.git\n",
        "%cd warp\n",
        "!chmod +x endip.sh && chmod +x warpendpoint\n",
        "!./endip.sh ip4\n",
        "f = open('result.csv', 'r')\n",
        "csvdata = csv.DictReader(f)\n",
        "data = [row for row in csvdata]\n",
        "f.close()\n",
        "\n",
        "%cd /content\n",
        "clear_output()\n",
        "\n",
        "r1 = requests.get(\"https://api.zeroteam.top/warp?format=sing-box\")\n",
        "r2 = requests.get(\"https://api.zeroteam.top/warp?format=sing-box\")\n",
        "\n",
        "\n",
        "j1 = json.loads(r1.text)\n",
        "ipv6_1 = j1['local_address'][1]\n",
        "pv1 = j1['private_key']\n",
        "res1 = j1['reserved']\n",
        "\n",
        "j2 = json.loads(r2.text)\n",
        "ipv6_2 = j2['local_address'][1]\n",
        "pv2 = j2['private_key']\n",
        "res2 = j2['reserved']\n",
        "\n",
        "n=1\n",
        "\n",
        "for dat in data:\n",
        "  ip1 = dat['IP:PORT'].split(\":\")[0]\n",
        "  port1 = int(dat['IP:PORT'].split(\":\")[1])\n",
        "\n",
        "  config =f'''{{\n",
        "  \"outbounds\":\n",
        "  [\n",
        "    {{\n",
        "      \"type\": \"wireguard\",\n",
        "      \"tag\": \"Warp-IR\",\n",
        "      \"server\": \"{ip1}\",\n",
        "      \"server_port\": {port1},\n",
        "\n",
        "      \"local_address\": [\n",
        "        \"172.16.0.2/32\",\n",
        "        \"{ipv6_1}\"\n",
        "      ],\n",
        "      \"private_key\": \"{pv1}\",\n",
        "      \"peer_public_key\": \"bmXOC+F1FxEMF9dyiK2H5/1SUtzH0JuVo51h2wPfgyo=\",\n",
        "      \"reserved\": {res1},\n",
        "\n",
        "      \"mtu\": 1280,\n",
        "      \"fake_packets\": \"5-10\"\n",
        "    }},\n",
        "    {{\n",
        "      \"type\": \"wireguard\",\n",
        "      \"tag\": \"Warp-Main\",\n",
        "      \"detour\": \"Warp-IR\",\n",
        "      \"server\": \"{ip1}\",\n",
        "      \"server_port\": {port1},\n",
        "\n",
        "      \"local_address\": [\n",
        "          \"172.16.0.2/32\",\n",
        "          \"{ipv6_2}\"\n",
        "      ],\n",
        "      \"private_key\": \"{pv2}\",\n",
        "      \"peer_public_key\": \"bmXOC+F1FxEMF9dyiK2H5/1SUtzH0JuVo51h2wPfgyo=\",\n",
        "      \"reserved\": {res2},\n",
        "\n",
        "      \"mtu\": 1120,\n",
        "      \"fake_packets\": \"5-10\"\n",
        "    }}\n",
        "  ]\n",
        "}}\n",
        "'''\n",
        "  f = open(f'config{str(n)}.txt','w')\n",
        "  f.write(config)\n",
        "  f.close()\n",
        "  n += 1\n",
        "  if n > 10 :\n",
        "    break\n",
        "print(\"config have be written!\")"
      ],
      "metadata": {
        "id": "DTHArNtA6d5z",
        "cellView": "form",
        "colab": {
          "base_uri": "https://localhost:8080/"
        },
        "outputId": "f18d5eb9-9959-4bef-9019-4f18ff8a3655"
      },
      "execution_count": 1,
      "outputs": [
        {
          "output_type": "stream",
          "name": "stdout",
          "text": [
            "config have be written!\n"
          ]
        }
      ]
    },
    {
      "cell_type": "code",
      "execution_count": null,
      "metadata": {
        "id": "YJuo5bBNk1zz",
        "cellView": "form"
      },
      "outputs": [],
      "source": [
        "# @title Not need\n",
        "!curl -sSL https://gitlab.com/rwkgyg/CFwarp/raw/main/point/endip.sh -o endip.sh && chmod +x endip.sh && ./endip.sh\n",
        "!pip install colab-xterm\n",
        "%load_ext colabxterm\n",
        "%xterm"
      ]
    }
  ]
}